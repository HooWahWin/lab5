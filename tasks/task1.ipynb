{
 "cells": [
  {
   "cell_type": "markdown",
   "id": "054dad85",
   "metadata": {},
   "source": [
    "# Task 1 - Qiskit Basics\n",
    "\n",
    "This task involves using simple gates functionality in Qiskit."
   ]
  },
  {
   "cell_type": "code",
   "execution_count": 1,
   "id": "6e0c7089",
   "metadata": {},
   "outputs": [],
   "source": [
    "# Add imports here, do not add any other code in this cell\n"
   ]
  },
  {
   "cell_type": "code",
   "execution_count": 2,
   "id": "ae870e77",
   "metadata": {},
   "outputs": [],
   "source": [
    "# Task 1.1 - Initialize a Quantum Circuit with 2 qubits and apply an X gate to the second qubit.\n",
    "# Then, measure all qubits and draw the circuit using the default text drawer.\n"
   ]
  },
  {
   "cell_type": "code",
   "execution_count": 3,
   "id": "9c85b25e",
   "metadata": {},
   "outputs": [],
   "source": [
    "# Task 1.2 - Initialize a Quantum Circuit with 2 qubits and 2 classical bits, apply an H gate to both qubits.\n",
    "# Use a single H gate call and a single measure call.\n",
    "# Then, measure all qubits on the initialized classical bits, and draw the circuit in matplotlib style.\n",
    "\n"
   ]
  },
  {
   "cell_type": "code",
   "execution_count": 4,
   "id": "73d72a2f",
   "metadata": {},
   "outputs": [],
   "source": [
    "# Task 1.3 - Initialize a quantum register and a classical register with 2 qubits/bits each.\n",
    "# Create a quantum circuit using these registers.\n",
    "# Name the quantum register \"Q\" and the classical register \"C\".\n",
    "# Create a bell pair\n",
    "# Measure all qubits on the classical bits and draw the circuit using the default text drawer.\n",
    "\n"
   ]
  },
  {
   "cell_type": "code",
   "execution_count": 5,
   "id": "3e50bfc5",
   "metadata": {},
   "outputs": [],
   "source": [
    "# Task 1.4 - Print the depth and size of the circuit created in Task 1.3\n"
   ]
  }
 ],
 "metadata": {
  "kernelspec": {
   "display_name": ".venv",
   "language": "python",
   "name": "python3"
  },
  "language_info": {
   "codemirror_mode": {
    "name": "ipython",
    "version": 3
   },
   "file_extension": ".py",
   "mimetype": "text/x-python",
   "name": "python",
   "nbconvert_exporter": "python",
   "pygments_lexer": "ipython3",
   "version": "3.13.7"
  }
 },
 "nbformat": 4,
 "nbformat_minor": 5
}
