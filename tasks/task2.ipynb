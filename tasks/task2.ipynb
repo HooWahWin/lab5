{
 "cells": [
  {
   "cell_type": "markdown",
   "id": "dfb4f2f7",
   "metadata": {},
   "source": [
    "# Task 2 - Qiskit State Vector\n",
    "\n",
    "This task involves using State Vector.\n",
    "We will skip latex visualization because it involves installing an external library (poppler). Try this on your own."
   ]
  },
  {
   "cell_type": "code",
   "execution_count": null,
   "id": "d6bbf41c",
   "metadata": {},
   "outputs": [],
   "source": [
    "# Add imports here, do not add any other code in this cell\n"
   ]
  },
  {
   "cell_type": "code",
   "execution_count": null,
   "id": "9b6196a9",
   "metadata": {},
   "outputs": [],
   "source": [
    "# Task 2.1 - Create a state vector and a GHZ- circuit. Evolve the state vector using the circuit.\n",
    "# Draw the state vector in qsphere format and observe the result."
   ]
  },
  {
   "cell_type": "code",
   "execution_count": null,
   "id": "d219eaa0",
   "metadata": {},
   "outputs": [],
   "source": [
    "# Task 2.2 - From the task 2.1 circuit, draw the circuit in text format."
   ]
  },
  {
   "cell_type": "code",
   "execution_count": null,
   "id": "9450a217",
   "metadata": {},
   "outputs": [],
   "source": [
    "# Task 2.3 - Create a state vector. Create a GHZ- circuit with a bell pair and an additional circuit to entangle the third qubit.\n",
    "# In other words, you will create 1 state, 2 circuits.\n",
    "# Verify the output with Task 2.1 and Task 2.2.\n",
    "\n"
   ]
  }
 ],
 "metadata": {
  "kernelspec": {
   "display_name": ".venv",
   "language": "python",
   "name": "python3"
  },
  "language_info": {
   "codemirror_mode": {
    "name": "ipython",
    "version": 3
   },
   "file_extension": ".py",
   "mimetype": "text/x-python",
   "name": "python",
   "nbconvert_exporter": "python",
   "pygments_lexer": "ipython3",
   "version": "3.13.7"
  }
 },
 "nbformat": 4,
 "nbformat_minor": 5
}
