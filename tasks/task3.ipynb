{
 "cells": [
  {
   "cell_type": "markdown",
   "id": "6f5d88ed",
   "metadata": {},
   "source": [
    "# Task 3 - Qiskit Aer Simulator\n",
    "\n",
    "Tasks 1 and 2 only involve visualizing the states and the circuits using Qiskit.\n",
    "To view the results of measurements, we need a simulator to run those circuits. Qiskit Aer is a powerful simulator for that matter."
   ]
  },
  {
   "cell_type": "code",
   "execution_count": 1,
   "id": "774f76a8",
   "metadata": {},
   "outputs": [],
   "source": [
    "# Add imports here, no code other than imports in this cell\n"
   ]
  },
  {
   "cell_type": "code",
   "execution_count": 2,
   "id": "2f6b67f1",
   "metadata": {},
   "outputs": [],
   "source": [
    "# Task 3.1 - Create a Bell pair circuit. Add measurements to all qubits.\n",
    "# Take shots=10,000 and use all methods ('statevector', 'stabilizer', 'extended_stabilizer', 'density_matrix', 'matrix_product_state') to run the circuit and get the counts.\n",
    "# Plot the counts in one histogram.\n",
    "# Note: Some methods may take longer time to run.\n",
    "\n"
   ]
  },
  {
   "cell_type": "code",
   "execution_count": 3,
   "id": "ad7a1895",
   "metadata": {},
   "outputs": [],
   "source": [
    "# Task 3.2 - Create a Cat state 1/sqrt(2)(|001> - |110>). Visualize the state using a qsphere.\n",
    "\n"
   ]
  },
  {
   "cell_type": "code",
   "execution_count": 4,
   "id": "ce73da66",
   "metadata": {},
   "outputs": [],
   "source": [
    "# Task 3.3 - Plot the histogram of the results of Task 3.2 after adding measurements to all qubits and running the circuit with shots=10,000 using density_matrix method."
   ]
  }
 ],
 "metadata": {
  "kernelspec": {
   "display_name": ".venv",
   "language": "python",
   "name": "python3"
  },
  "language_info": {
   "codemirror_mode": {
    "name": "ipython",
    "version": 3
   },
   "file_extension": ".py",
   "mimetype": "text/x-python",
   "name": "python",
   "nbconvert_exporter": "python",
   "pygments_lexer": "ipython3",
   "version": "3.13.7"
  }
 },
 "nbformat": 4,
 "nbformat_minor": 5
}
